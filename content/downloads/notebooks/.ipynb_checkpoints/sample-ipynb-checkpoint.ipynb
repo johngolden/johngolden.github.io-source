{
 "cells": [
  {
   "cell_type": "markdown",
   "metadata": {},
   "source": [
    "<!-- PELICAN_BEGIN_SUMMARY -->\n",
    "\n",
    "In this notebook I do some simple python stuff and display it on my website. \n",
    "\n",
    "\n",
    "<!-- PELICAN_END_SUMMARY -->"
   ]
  },
  {
   "cell_type": "markdown",
   "metadata": {},
   "source": [
    "## A subsection involving python code"
   ]
  },
  {
   "cell_type": "markdown",
   "metadata": {},
   "source": [
    "Here I create a sample for the Ising model:"
   ]
  },
  {
   "cell_type": "code",
   "execution_count": 1,
   "metadata": {
    "collapsed": false
   },
   "outputs": [
    {
     "data": {
      "text/plain": [
       "array([[-1, -1,  1,  1,  1,  1, -1, -1,  1, -1],\n",
       "       [-1,  1, -1, -1,  1, -1, -1, -1, -1, -1],\n",
       "       [-1, -1,  1,  1, -1, -1, -1, -1, -1, -1],\n",
       "       [ 1,  1,  1, -1,  1,  1, -1,  1, -1, -1],\n",
       "       [ 1,  1,  1, -1,  1, -1, -1, -1,  1, -1],\n",
       "       [-1,  1, -1,  1, -1,  1,  1,  1,  1, -1],\n",
       "       [ 1,  1,  1, -1,  1,  1, -1,  1,  1, -1],\n",
       "       [-1, -1, -1, -1,  1, -1, -1,  1, -1, -1],\n",
       "       [ 1, -1,  1, -1, -1,  1,  1, -1,  1,  1],\n",
       "       [ 1,  1, -1, -1,  1, -1, -1, -1,  1,  1]])"
      ]
     },
     "execution_count": 1,
     "metadata": {},
     "output_type": "execute_result"
    }
   ],
   "source": [
    "import numpy as np\n",
    "\n",
    "def random_spin_field(N, M):\n",
    "    return np.random.choice([-1, 1], size=(N, M))\n",
    "\n",
    "random_spin_field(10, 10)"
   ]
  },
  {
   "cell_type": "markdown",
   "metadata": {},
   "source": [
    "Well that's pretty _nifty_!"
   ]
  },
  {
   "cell_type": "markdown",
   "metadata": {},
   "source": [
    "## A subsection involving latex code"
   ]
  },
  {
   "cell_type": "markdown",
   "metadata": {},
   "source": [
    "Here is some inline latex: $e^{i \\pi} = 0$. And here is a standalone equation:\n",
    "\n",
    "$$e^x = \\sum_{i=0}^\\infty \\frac{1}{i!}x^i$$\n",
    "\n",
    "What do we think of that?"
   ]
  },
  {
   "cell_type": "markdown",
   "metadata": {},
   "source": [
    "In conclusion, I hope this worked."
   ]
  }
 ],
 "metadata": {
  "kernelspec": {
   "display_name": "Python 3",
   "language": "python",
   "name": "python3"
  },
  "language_info": {
   "codemirror_mode": {
    "name": "ipython",
    "version": 3
   },
   "file_extension": ".py",
   "mimetype": "text/x-python",
   "name": "python",
   "nbconvert_exporter": "python",
   "pygments_lexer": "ipython3",
   "version": "3.6.0"
  }
 },
 "nbformat": 4,
 "nbformat_minor": 2
}
